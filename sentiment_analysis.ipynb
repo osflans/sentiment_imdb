{
  "nbformat": 4,
  "nbformat_minor": 0,
  "metadata": {
    "colab": {
      "provenance": []
    },
    "kernelspec": {
      "name": "python3",
      "display_name": "Python 3"
    },
    "language_info": {
      "name": "python"
    }
  },
  "cells": [
    {
      "cell_type": "code",
      "execution_count": 108,
      "metadata": {
        "id": "QANEqPJdwg78",
        "colab": {
          "base_uri": "https://localhost:8080/"
        },
        "outputId": "4ef319da-ece0-4621-a914-c9e1086fb396"
      },
      "outputs": [
        {
          "output_type": "stream",
          "name": "stderr",
          "text": [
            "[nltk_data] Downloading package stopwords to /root/nltk_data...\n",
            "[nltk_data]   Package stopwords is already up-to-date!\n",
            "[nltk_data] Downloading package punkt to /root/nltk_data...\n",
            "[nltk_data]   Package punkt is already up-to-date!\n"
          ]
        }
      ],
      "source": [
        "import pandas as pd\n",
        "import re\n",
        "from nltk.tokenize import word_tokenize\n",
        "from nltk.stem import PorterStemmer\n",
        "from nltk.corpus import stopwords\n",
        "import nltk\n",
        "nltk.download('stopwords')\n",
        "nltk.download('punkt')\n",
        "stop_words = set(stopwords.words('english'))\n",
        "from wordcloud import WordCloud\n",
        "from sklearn.feature_extraction.text import TfidfVectorizer"
      ]
    },
    {
      "cell_type": "code",
      "source": [
        "df_texts = pd.Series(pd.read_fwf('train.texts', sep=\"\\n\", header=None)[0], name='review')\n",
        "df_labels = pd.Series(pd.read_fwf('train.labels', sep=\"\\n\", header=None)[0], name='sentiment')\n",
        "df = pd.concat([df_texts, df_labels], axis=1)\n",
        "df_x_test = pd.read_csv('texts.csv')['texts'].to_frame()\n",
        "\n",
        "df.replace(\"pos\", 1, inplace=True)\n",
        "df.replace(\"neg\", 0, inplace=True)"
      ],
      "metadata": {
        "id": "3iJ7nKtQz9x3"
      },
      "execution_count": 109,
      "outputs": []
    },
    {
      "cell_type": "code",
      "source": [
        "def data_processing(text):\n",
        "    text= text.lower()\n",
        "    text = re.sub('<br />', '', text)\n",
        "    text = re.sub(r\"https\\S+|www\\S+|http\\S+\", '', text, flags = re.MULTILINE)\n",
        "    text = re.sub(r'\\@w+|\\#', '', text)\n",
        "    text = re.sub(r'[^\\w\\s]', '', text)\n",
        "    text_tokens = word_tokenize(text)\n",
        "    filtered_text = [w for w in text_tokens if not w in stop_words]\n",
        "    return \" \".join(filtered_text)"
      ],
      "metadata": {
        "id": "nBmMRh287dVu"
      },
      "execution_count": 112,
      "outputs": []
    },
    {
      "cell_type": "code",
      "source": [
        "df.review = df['review'].apply(data_processing)\n",
        "df_x_test.texts = df_x_test['texts'].apply(data_processing)"
      ],
      "metadata": {
        "id": "q0QOSZnO7dSV"
      },
      "execution_count": 113,
      "outputs": []
    },
    {
      "cell_type": "code",
      "source": [
        "df = df.drop_duplicates('review')"
      ],
      "metadata": {
        "id": "Fn6TLcqy71ct"
      },
      "execution_count": 114,
      "outputs": []
    },
    {
      "cell_type": "code",
      "source": [
        "stemmer = PorterStemmer()\n",
        "def stemming(data):\n",
        "    text = [stemmer.stem(word) for word in data]\n",
        "    return data"
      ],
      "metadata": {
        "id": "H75UtswR71aX"
      },
      "execution_count": 115,
      "outputs": []
    },
    {
      "cell_type": "code",
      "source": [
        "df.review = df['review'].apply(lambda x: stemming(x))\n",
        "df_x_test.texts = df_x_test['texts'].apply(lambda x: stemming(x))"
      ],
      "metadata": {
        "id": "VFmT8-8T71YA",
        "colab": {
          "base_uri": "https://localhost:8080/"
        },
        "outputId": "ef781ad6-97e1-4bef-98af-7d6abcca2b44"
      },
      "execution_count": 116,
      "outputs": [
        {
          "output_type": "stream",
          "name": "stderr",
          "text": [
            "<ipython-input-116-4a2979145259>:1: SettingWithCopyWarning: \n",
            "A value is trying to be set on a copy of a slice from a DataFrame.\n",
            "Try using .loc[row_indexer,col_indexer] = value instead\n",
            "\n",
            "See the caveats in the documentation: https://pandas.pydata.org/pandas-docs/stable/user_guide/indexing.html#returning-a-view-versus-a-copy\n",
            "  df.review = df['review'].apply(lambda x: stemming(x))\n"
          ]
        }
      ]
    },
    {
      "cell_type": "code",
      "source": [
        "x_train = df['review']\n",
        "y_train = df['sentiment']\n",
        "x_test = df_x_test['texts']\n",
        "\n",
        "vect = TfidfVectorizer(max_df=0.8, ngram_range=(1,3))\n",
        "x_train = vect.fit_transform(x_train)\n",
        "x_test = vect.transform(x_test)\n",
        "\n",
        "print(\"Size of x_train: \", (x_train.shape))\n",
        "print(\"Size of y_train: \", (y_train.shape))\n",
        "print(\"Size of x_test: \", (x_test.shape))"
      ],
      "metadata": {
        "id": "sdNREdO671Sl"
      },
      "execution_count": 117,
      "outputs": []
    },
    {
      "cell_type": "code",
      "source": [
        "from sklearn.linear_model import PassiveAggressiveClassifier\n",
        "\n",
        "passive = PassiveAggressiveClassifier()\n",
        "passive.fit(x_train, y_train)\n",
        "pred = passive.predict(x_test)"
      ],
      "metadata": {
        "id": "PdaeslU-lSAf"
      },
      "execution_count": 120,
      "outputs": []
    },
    {
      "cell_type": "code",
      "source": [
        "y_pred = pd.DataFrame(data=range(0,10000))\n",
        "y_pred.columns = ['id']\n",
        "y_pred['labels'] = pred\n",
        "y_pred.labels.replace(1, 'pos', inplace=True)\n",
        "y_pred.labels.replace(0, 'neg', inplace=True)"
      ],
      "metadata": {
        "id": "Lw9pzGFAP4tf"
      },
      "execution_count": 121,
      "outputs": []
    },
    {
      "cell_type": "code",
      "source": [
        "y_pred.to_csv('y_pred.csv', index=False)"
      ],
      "metadata": {
        "id": "NrfY1AU-58Pk"
      },
      "execution_count": 123,
      "outputs": []
    }
  ]
}